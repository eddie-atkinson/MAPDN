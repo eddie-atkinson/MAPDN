{
 "cells": [
  {
   "cell_type": "markdown",
   "metadata": {},
   "source": [
    "## Purpose\n",
    "\n",
    "The purpose of this notebook is to process the network models from the [CSIRO Low Voltage Feeder Taxonomy](http://linked.data.gov.au/dataset/energy/f325fb3c-2dcd-410c-97a8-e55dc68b8064) project.\n",
    "\n",
    "These network models are specified as Open DSS input files. We need them in Pandapower format in order to work with the MADPN simulation setup.\n",
    "\n",
    "## Approach\n",
    "The basic process will be to convert the lines, line codes and loads into arrays of dictionaries which can be used to build representations of the networks.\n",
    "\n",
    "One of the major challenges here will be creating a correspondence between bus numbers given in the OpenDSS files and those in Pandapower. In the OpenDSS files the buses are given arbitrary numbers whilst in Pandapower buses are counted in the order they are created in starting from 0.\n",
    "\n"
   ]
  },
  {
   "cell_type": "code",
   "execution_count": 6,
   "metadata": {},
   "outputs": [],
   "source": [
    "from pathlib import Path\n",
    "import pandas as pd\n",
    "import numpy as np\n",
    "import pandapower as pp"
   ]
  },
  {
   "cell_type": "code",
   "execution_count": 2,
   "metadata": {},
   "outputs": [],
   "source": [
    "INPUT_DATA_PATH = Path(\"./input_network_models\")\n",
    "OUTPUT_DATA_PATH = Path(\"./output_network_models\")"
   ]
  },
  {
   "cell_type": "code",
   "execution_count": 8,
   "metadata": {},
   "outputs": [
    {
     "ename": "UserWarning",
     "evalue": "max_i_ka is required as line type parameter",
     "output_type": "error",
     "traceback": [
      "\u001b[0;31m---------------------------------------------------------------------------\u001b[0m",
      "\u001b[0;31mUserWarning\u001b[0m                               Traceback (most recent call last)",
      "Input \u001b[0;32mIn [8]\u001b[0m, in \u001b[0;36m<cell line: 16>\u001b[0;34m()\u001b[0m\n\u001b[1;32m      1\u001b[0m net \u001b[38;5;241m=\u001b[39m pp\u001b[38;5;241m.\u001b[39mcreate_empty_network()\n\u001b[1;32m      3\u001b[0m line_data \u001b[38;5;241m=\u001b[39m {\n\u001b[1;32m      4\u001b[0m     \u001b[38;5;124m\"\u001b[39m\u001b[38;5;124mc_nf_per_km\u001b[39m\u001b[38;5;124m\"\u001b[39m: \u001b[38;5;241m0\u001b[39m,\n\u001b[1;32m      5\u001b[0m     \u001b[38;5;124m\"\u001b[39m\u001b[38;5;124mc0_nf_per_km\u001b[39m\u001b[38;5;124m\"\u001b[39m: \u001b[38;5;241m0\u001b[39m,\n\u001b[0;32m   (...)\u001b[0m\n\u001b[1;32m     13\u001b[0m     \u001b[38;5;124m\"\u001b[39m\u001b[38;5;124mtype\u001b[39m\u001b[38;5;124m\"\u001b[39m: \u001b[38;5;124m\"\u001b[39m\u001b[38;5;124mcs\u001b[39m\u001b[38;5;124m\"\u001b[39m,\n\u001b[1;32m     14\u001b[0m }\n\u001b[0;32m---> 16\u001b[0m \u001b[43mpp\u001b[49m\u001b[38;5;241;43m.\u001b[39;49m\u001b[43mcreate_std_type\u001b[49m\u001b[43m(\u001b[49m\u001b[43mnet\u001b[49m\u001b[43m,\u001b[49m\u001b[43m \u001b[49m\u001b[43mline_data\u001b[49m\u001b[43m,\u001b[49m\u001b[43m \u001b[49m\u001b[38;5;124;43m\"\u001b[39;49m\u001b[38;5;124;43mBlah\u001b[39;49m\u001b[38;5;124;43m\"\u001b[39;49m\u001b[43m,\u001b[49m\u001b[43m \u001b[49m\u001b[43melement\u001b[49m\u001b[38;5;241;43m=\u001b[39;49m\u001b[38;5;124;43m\"\u001b[39;49m\u001b[38;5;124;43mline\u001b[39;49m\u001b[38;5;124;43m\"\u001b[39;49m\u001b[43m)\u001b[49m\n",
      "File \u001b[0;32m~/.pyenv/versions/3.8.5/envs/madpn/lib/python3.9/site-packages/pandapower/std_types.py:96\u001b[0m, in \u001b[0;36mcreate_std_type\u001b[0;34m(net, data, name, element, overwrite, check_required)\u001b[0m\n\u001b[1;32m     94\u001b[0m     \u001b[38;5;28;01mfor\u001b[39;00m par \u001b[38;5;129;01min\u001b[39;00m required:\n\u001b[1;32m     95\u001b[0m         \u001b[38;5;28;01mif\u001b[39;00m par \u001b[38;5;129;01mnot\u001b[39;00m \u001b[38;5;129;01min\u001b[39;00m data:\n\u001b[0;32m---> 96\u001b[0m             \u001b[38;5;28;01mraise\u001b[39;00m \u001b[38;5;167;01mUserWarning\u001b[39;00m(\u001b[38;5;124m\"\u001b[39m\u001b[38;5;132;01m%s\u001b[39;00m\u001b[38;5;124m is required as \u001b[39m\u001b[38;5;132;01m%s\u001b[39;00m\u001b[38;5;124m type parameter\u001b[39m\u001b[38;5;124m\"\u001b[39m \u001b[38;5;241m%\u001b[39m (par, element))\n\u001b[1;32m     97\u001b[0m library \u001b[38;5;241m=\u001b[39m net\u001b[38;5;241m.\u001b[39mstd_types[element]\n\u001b[1;32m     98\u001b[0m \u001b[38;5;28;01mif\u001b[39;00m overwrite \u001b[38;5;129;01mor\u001b[39;00m \u001b[38;5;129;01mnot\u001b[39;00m (name \u001b[38;5;129;01min\u001b[39;00m library):\n",
      "\u001b[0;31mUserWarning\u001b[0m: max_i_ka is required as line type parameter"
     ]
    }
   ],
   "source": [
    "net = pp.create_empty_network()\n",
    "\n",
    "line_data = {\n",
    "    \"c_nf_per_km\": 0,\n",
    "    \"c0_nf_per_km\": 0,\n",
    "    \"r_ohm_per_km\": 1.903,\n",
    "    \"r0_ohm_per_km\": 1.903,\n",
    "    \"x_ohm_per_km\": 0.09,\n",
    "    \"x0_ohm_per_km\": 0.09,\n",
    "    # Taken directly from the Pandapower example, it is unclear from the source data what this is?\n",
    "    \"max_i_ka\": 0.142,\n",
    "    # Unclear whether the line is underground or overhead, for now let's assume underground\n",
    "    # \"type\": \"cs\",\n",
    "}\n",
    "\n",
    "pp.create_std_type(net, line_data, \"Blah\", element=\"line\")\n"
   ]
  },
  {
   "cell_type": "code",
   "execution_count": null,
   "metadata": {},
   "outputs": [],
   "source": []
  }
 ],
 "metadata": {
  "interpreter": {
   "hash": "c4a8b33f54e91e0fba0aee32d2cc6e29e6a619bb4eba0837462f8fb01455034b"
  },
  "kernelspec": {
   "display_name": "Python 3.9.10 64-bit ('madpn': pyenv)",
   "language": "python",
   "name": "python3"
  },
  "language_info": {
   "codemirror_mode": {
    "name": "ipython",
    "version": 3
   },
   "file_extension": ".py",
   "mimetype": "text/x-python",
   "name": "python",
   "nbconvert_exporter": "python",
   "pygments_lexer": "ipython3",
   "version": "3.9.10"
  },
  "orig_nbformat": 4
 },
 "nbformat": 4,
 "nbformat_minor": 2
}
